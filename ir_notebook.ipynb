{
 "cells": [
  {
   "attachments": {},
   "cell_type": "markdown",
   "metadata": {},
   "source": [
    "# MODERN INFORMATION RETRIEVAL - AITECH 2023\n",
    "\n",
    "In this notebook there are examples of how to use Sentence Transformers and BEIR libraries.\n",
    "After completion you should be able to build Information Retrieval pipeline with you own documents."
   ]
  },
  {
   "attachments": {},
   "cell_type": "markdown",
   "metadata": {},
   "source": [
    "### HOW TO LOAD DATA FROM BEIR and BEIR-PL benchmarks\n",
    "There are avaliable datasets and models from BEIR and BEIR-PL benchmarks on huggingface:\n",
    "- BEIR-PL https://huggingface.co/clarin-knext \n",
    "- BEIR https://huggingface.co/BeIR \n",
    "\n",
    "In case of BEIR benchmark it is also possible to download their datasets dirctly in zip archive.\n",
    "\n",
    "Remeber about sizes of datasets, some require a few GBs or space.\n",
    "\n",
    "![BEIR_PL_DATASETS.png](images/BEIR_PL_DATASETS.png)"
   ]
  },
  {
   "cell_type": "code",
   "execution_count": null,
   "metadata": {},
   "outputs": [],
   "source": [
    "from beir import util\n",
    "\n",
    "\n",
    "dataset = \"scifact\"\n",
    "# Downloading data, unpacking and loading\n",
    "url = \"https://public.ukp.informatik.tu-darmstadt.de/thakur/BEIR/datasets/{}.zip\".format(dataset)\n",
    "out_dir = \"data\"\n",
    "data_path = util.download_and_unzip(url, out_dir)\n",
    "\n",
    "from beir.datasets.data_loader import GenericDataLoader\n",
    "corpus, queries, qrels = GenericDataLoader(data_folder=data_path).load(split=\"test\")"
   ]
  },
  {
   "cell_type": "code",
   "execution_count": 3,
   "metadata": {},
   "outputs": [
    {
     "data": {
      "text/plain": [
       "{'1': '0-dimensional biomaterials show inductive properties.',\n",
       " '3': '1,000 genomes project enables mapping of genetic sequence variation consisting of rare variants with larger penetrance effects than common variants.',\n",
       " '5': '1/2000 in UK have abnormal PrP positivity.',\n",
       " '13': '5% of perinatal mortality is due to low birth weight.',\n",
       " '36': 'A deficiency of vitamin B12 increases blood levels of homocysteine.',\n",
       " '42': 'A high microerythrocyte count raises vulnerability to severe anemia in homozygous alpha (+)- thalassemia trait subjects.',\n",
       " '48': 'A total of 1,000 people in the UK are asymptomatic carriers of vCJD infection.',\n",
       " '49': 'ADAR1 binds to Dicer to cleave pre-miRNA.',\n",
       " '50': 'AIRE is expressed in some skin tumors.',\n",
       " '51': 'ALDH1 expression is associated with better breast cancer outcomes.',\n",
       " '53': 'ALDH1 expression is associated with poorer prognosis in breast cancer.',\n",
       " '54': 'AMP-activated protein kinase (AMPK) activation increases inflammation-related fibrosis in the lungs.',\n",
       " '56': 'APOE4 expression in iPSC-derived neurons increases AlphaBeta production and tau phosphorylation causing GABA neuron degeneration.',\n",
       " '57': 'APOE4 expression in iPSC-derived neurons increases AlphaBeta production and tau phosphorylation, delaying GABA neuron degeneration.',\n",
       " '70': 'Activation of PPM1D suppresses p53 function.',\n",
       " '72': 'Activator-inhibitor pairs are provided dorsally by Admpchordin.',\n",
       " '75': 'Active H. pylori urease has a polymeric structure that compromises two subunits, UreA and UreB.',\n",
       " '94': 'Albendazole is used to treat lymphatic filariasis.',\n",
       " '99': 'Alizarin forms hydrogen bonds with residues involved in PGAM1 substrate binding.',\n",
       " '100': 'All hematopoietic stem cells segregate their chromosomes randomly.',\n",
       " '113': 'Angiotensin converting enzyme inhibitors are associated with increased risk for functional renal insufficiency.',\n",
       " '115': 'Anthrax spores can be disposed of easily after they are dispersed.',\n",
       " '118': 'Antibiotic induced alterations in the gut microbiome reduce resistance against Clostridium difficile',\n",
       " '124': 'Antiretroviral therapy reduces rates of tuberculosis across a broad range of CD4 strata.',\n",
       " '127': 'Arginine 90 in p150n is important for interaction with EB1.',\n",
       " '128': 'Arterioles have a larger lumen diameter than venules.',\n",
       " '129': 'Articles published in open access format are less likely to be cited than traditional journals.',\n",
       " '130': 'Articles published in open access format are more likely to be cited than traditional journals.',\n",
       " '132': 'Aspirin inhibits the production of PGE2.',\n",
       " '133': 'Assembly of invadopodia is triggered by focal generation of phosphatidylinositol-3,4-biphosphate and the activation of the nonreceptor tyrosine kinase Src.',\n",
       " '137': 'Asymptomatic visual impairment screening in elderly populations does not lead to improved vision.',\n",
       " '141': 'Auditory entrainment is strengthened when people see congruent visual and auditory information.',\n",
       " '142': 'Autologous transplantation of mesenchymal stem cells causes a higher rate of opportunistic infections than induction therapy with anti-interleukin-2 receptor antibodies.',\n",
       " '143': 'Autologous transplantation of mesenchymal stem cells causes fewer opportunistic infections than induction therapy with anti-interleukin-2 receptor antibodies.',\n",
       " '146': 'Autologous transplantation of mesenchymal stem cells has lower rates of rejection than induction therapy with anti-interleukin-2 receptor antibodies.',\n",
       " '148': 'Autophagy declines in aged organisms.',\n",
       " '163': 'Bariatric surgery has a positive impact on mental health.',\n",
       " '171': 'Basophils counteract disease development in patients with systemic lupus erythematosus (SLE).',\n",
       " '179': 'Birth-weight is positively associated with breast cancer.',\n",
       " '180': 'Blocking the interaction between TDP-43 and respiratory complex I proteins ND3 and ND6 leads to increased TDP-43-induced neuronal loss.',\n",
       " '183': 'Bone marrow cells contribute to adult macrophage compartments.',\n",
       " '185': 'Breast cancer development is determined exclusively by genetic factors.',\n",
       " '198': 'CCL19 is absent within dLNs.',\n",
       " '208': 'CHEK2 is not associated with breast cancer.',\n",
       " '212': 'CR is associated with higher methylation age.',\n",
       " '213': 'CRP is not predictive of postoperative mortality following Coronary Artery Bypass Graft (CABG) surgery.',\n",
       " '216': 'CX3CR1 on the Th2 cells impairs T cell survival',\n",
       " '217': 'CX3CR1 on the Th2 cells promotes T cell survival',\n",
       " '218': 'CX3CR1 on the Th2 cells promotes airway inflammation.',\n",
       " '219': 'CX3CR1 on the Th2 cells suppresses airway inflammation.',\n",
       " '230': 'Carriers of the alcohol aldehyde dehydrogenase deficiency mutation drink less that non-carries.',\n",
       " '232': 'Cataract and trachoma are the primary cause of blindness in Southern Sudan.',\n",
       " '233': 'Cell autonomous sex determination in somatic cells does not occur in Galliformes.',\n",
       " '236': 'Cell autonomous sex determination in somatic cells occurs in Passeriformes.',\n",
       " '237': 'Cells lacking clpC have a defect in sporulation efficiency in Bacillus subtilis.',\n",
       " '238': 'Cells undergoing methionine restriction may activate miRNAs.',\n",
       " '239': 'Cellular aging closely links to an older appearance.',\n",
       " '248': 'Chenodeosycholic acid treatment increases whole-body energy expenditure.',\n",
       " '249': 'Chenodeosycholic acid treatment reduces whole-body energy expenditure.',\n",
       " '261': 'Chronic aerobic exercise alters endothelial function, improving vasodilating mechanisms mediated by NO.',\n",
       " '268': 'Cold exposure increases BAT recruitment.',\n",
       " '269': 'Cold exposure reduces BAT recruitment.',\n",
       " '274': 'Combination nicotine replacement therapies with varenicline or bupropion lead to significantly higher long-term abstinence rates at 52 weeks than varenicline monotherapy.',\n",
       " '275': 'Combining phosphatidylinositide 3-kinase and MEK 1/2 inhibitors is effective at treating KRAS mutant tumors.',\n",
       " '279': \"Commelina yellow mottle virus' (ComYMV) genome consists of 7489 baise pairs.\",\n",
       " '294': 'Crossover hot spots are not found within gene promoters in Saccharomyces cerevisiae.',\n",
       " '295': 'Crosstalk between dendritic cells (DCs) and innate lymphoid cells (ILCs) is important in the regulation of intestinal homeostasis.',\n",
       " '298': 'Cytochrome c is released from the mitochondrial intermembrane space to cytosol during apoptosis.',\n",
       " '300': 'Cytosolic proteins bind to iron-responsive elements on mRNAs coding for DMT1. Cytosolic proteins bind to iron-responsive elements on mRNAs coding for proteins involved in iron uptake.',\n",
       " '303': 'DMRT1 is a sex-determining gene that is epigenetically regulated by the MHM region.',\n",
       " '312': 'De novo assembly of sequence data has more specific contigs than unassembled sequence data.',\n",
       " '314': 'Deamination of cytidine to uridine on the minus strand of viral DNA results in catastrophic G-to-A mutations in the viral genome.',\n",
       " '324': 'Deleting Raptor reduces G-CSF levels.',\n",
       " '327': 'Deletion of αvβ8 does not result in a spontaneous inflammatory phenotype.',\n",
       " '338': 'Dexamethasone decreases risk of postoperative bleeding.',\n",
       " '343': 'Diabetic patients with acute coronary syndrome experience increased short-term and long-term risk for bleeding events.',\n",
       " '350': 'Discrimination between the initiator and elongation tRNAs depends on the translation initiation factor IF3.',\n",
       " '354': 'Downregulation and mislocalization of Scribble prevents cell transformation and mammary tumorigenesis.',\n",
       " '362': 'During the primary early antibody response activated B cells migrate toward the inner-and outer paracortical areas where oxysterol accumulation is generated by stromal cells.',\n",
       " '380': 'Enhanced early production of inflammatory chemokines improves viral control in the lung.',\n",
       " '384': 'Epidemiological disease burden from noncommunicable diseases is more prevalent in low economic settings.',\n",
       " '385': 'Epigenetic modulating agents (EMAs) modulate antitumor immune response in a cancer model system.',\n",
       " '386': 'Errors in peripheral IV drug administration are most common during bolus administration and multiple-step medicine preparations.',\n",
       " '388': 'Ethanol stress decreases the expression of IBP in bacteria.',\n",
       " '399': 'Exposure to fine particulate air pollution is relate to anxiety prevalence.',\n",
       " '410': 'Febrile seizures increase the threshold for development of epilepsy.',\n",
       " '411': 'Febrile seizures reduce the threshold for development of epilepsy.',\n",
       " '415': 'Female carriers of the Apolipoprotein E4 (APOE4) allele have increased risk for dementia.',\n",
       " '421': 'Flexible molecules experience greater steric hindrance in the tumor microenviroment than rigid molecules.',\n",
       " '431': 'FoxO3a activation in neuronal death is mediated by reactive oxygen species (ROS).',\n",
       " '436': 'Free histones are degraded by a Rad53-dependent mechanism once DNA has been replicated.',\n",
       " '437': 'Functional consequences of genomic alterations due to Myelodysplastic syndrome (MDS) are poorly understood due to the lack of an animal model.',\n",
       " '439': 'Fz/PCP-dependent Pk localizes to the anterior membrane of neuroectoderm cells during zebrafish neuralation',\n",
       " '440': 'Fz/PCP-dependent Pk localizes to the anterior membrane of notochord cells during zebrafish neuralation.',\n",
       " '443': 'GATA-3 is important for hematopoietic stem cell (HSC) function.',\n",
       " '452': 'Gene expression does not vary appreciably across genetically identical cells.',\n",
       " '475': 'Glycolysis is one of the primary glycometabolic pathways in cells.',\n",
       " '478': 'Golli-deficient T-cells prefer to differentiate into an anergic phenotype in the adaptive immune response when there are increased levels of Ca2+ in the cytosol.',\n",
       " '491': 'HNF4A mutations can cause diabetes in mutant carriers by the age of 14 years',\n",
       " '501': 'Headaches are not correlated with cognitive impairment.',\n",
       " '502': 'Healthcare delivery efficiency in crowded delivery centers is impaired by improving structural, logistical, and interpersonal elements.',\n",
       " '507': 'Helminths interfere with immune system control of macrophages activated by IL-4 favor Mycobacterium tuberculosis replication.',\n",
       " '508': 'Hematopoietic Stem Cell purification reaches purity rate of up to 50%.',\n",
       " '513': 'High cardiopulmonary fitness causes increased mortality rate.',\n",
       " '514': 'High dietary calcium intakes are unnecessary for prevention of secondary hyperparathyroidism in subjects with 25(OH)D levels above 75 nmol/liter.',\n",
       " '516': 'High levels of CRP reduces the risk of exacerbations in chronic obstructive pulmonary disease (COPD).',\n",
       " '517': 'High levels of copeptin decrease risk of diabetes.',\n",
       " '521': 'High-sensitivity cardiac troponin T (HSCT-T) dosage may not be diagnostic if the onset of symptoms occurs less than 3 hours before acute myocardial injury (AMI).',\n",
       " '525': 'Histone demethylase recruitment and a transient decrease in histone methylation is necessary for ligand-dependent induction of transcription by nuclear receptors.',\n",
       " '527': 'Homozygous deletion of murine Sbds gene from osterix-expressing mesenchymal stem and progenitor cells (MPCs) prevents oxidative stress.',\n",
       " '528': 'Human T-lymphotropic virus type-I-associated myelopathy / tropical spastic paraparesis (HAM/TSP) patients produce Immunoglobulin G (IgG) antibodies which cross-react with an immunodominant epitope in Tax.',\n",
       " '532': 'Hyperfibrinogenemia decreases rates of femoropopliteal bypass thrombosis.',\n",
       " '533': 'Hyperfibrinogenemia increases rates of femoropopliteal bypass thrombosis.',\n",
       " '535': 'Hypertension is frequently observed in type 1 diabetes patients.',\n",
       " '536': 'Hypocretin neurones induce panicprone state in rats.',\n",
       " '539': 'Hypoglycemia increases the risk of dementia.',\n",
       " '540': 'Hypothalamic glutamate neurotransmission is crucial to energy balance.',\n",
       " '544': 'IFIT1 restricts viral replication by sequestrating mis-capped viral RNAs.',\n",
       " '549': 'IRG1 has antiviral effects against neurotropic viruses.',\n",
       " '551': 'ITAM phosphorylation prevents the transfer of the T cell receptor (TCR) signal from the echo-domain to the cytoplasmic tail of the T cell receptor (TCR).',\n",
       " '552': 'IgA plasma cells that are specific for transglutaminase 2 accumulate in the duodenal mucosa on commencement of a gluten-free diet.',\n",
       " '554': 'Immune complex triggered cell death leads to extracellular release of neutrophil protein HMGB1.',\n",
       " '560': 'Immune responses result in the development of inflammatory Th17 cells and anti-inflammatory iTregs.',\n",
       " '569': 'In adult tissue, most T cells are memory T cells.',\n",
       " '575': 'In domesticated populations of Saccharomyces cerevisiae, whole chromosome aneuploidy is very uncommon.',\n",
       " '577': 'In mice, P. chabaudi parasites are able to proliferate faster early in infection when inoculated at lower numbers than when inoculated at high numbers.',\n",
       " '578': 'In mouse models, the loss of CSF1R facilitates MOZ-TIF2-induced leuekmogenesis.',\n",
       " '587': 'In transgenic mice harboring green florescent protein under the control of the Sox2 promoter, less than ten percent of the cells with green florescent colocalize with cell proliferation markers.',\n",
       " '589': 'In young and middle-aged adults, current or remote uses of ADHD medications do not increase the risk of serious cardiovascular events.',\n",
       " '593': 'Incidence of heart failure decreased by 10% in women since 1979.',\n",
       " '597': 'Incidence rates of cervical cancer have decreased.',\n",
       " '598': 'Incidence rates of cervical cancer have increased due to nationwide screening programs based primarily on cytology to detect uterine cervical cancer.',\n",
       " '613': 'Increased microtubule acetylation repairs LRRK2 Roc-COR domain mutation induced locomotor deficits.',\n",
       " '619': 'Increased vessel density along with a reduction in fibrosis decreases the efficacy of chemotherapy treatments.',\n",
       " '623': 'Individuals with low serum vitamin D concentrations have increased risk of multiple sclerosis.',\n",
       " '628': 'Infection of human T-cell lymphotropic virus type 1 is most frequent in individuals of African origin.',\n",
       " '636': 'Inositol lipid 3-phosphatase PTEN converts Ptdlns(3,4)P 2 into phosphatidylinositol 4-phosphate.',\n",
       " '637': 'Input from  mental and physical health care professionals is effective at decreasing homelessness.',\n",
       " '641': 'Insomnia can be effectively treated with cognitive behavioral therapy.',\n",
       " '644': 'Insulin increases risk of severe kidney failure.',\n",
       " '649': 'Integrating classroom-based collaborative learning with Web-based collaborative learning leads to subpar class performance',\n",
       " '659': 'Ivermectin is used to treat lymphatic filariasis.',\n",
       " '660': 'Ivermectin is used to treat onchocerciasis.',\n",
       " '674': 'LDL cholesterol has no involvement in the development of cardiovascular disease.',\n",
       " '684': 'Lack of clpC does not affect sporulation efficiency in Bacillus subtilis cells.',\n",
       " '690': 'Less than 10% of the gabonese children with Schimmelpenning-Feuerstein-Mims syndrome (SFM) had a plasma lactate of more than 5mmol/L.',\n",
       " '691': 'Leukemia associated Rho guanine nucleotide-exchange factor represses RhoA in response to SRC activation.',\n",
       " '692': 'Leuko-increased blood increases infectious complications in red blood cell transfusion.',\n",
       " '693': 'Leuko-reduced blood reduces infectious complications in red blood cell transfusion.',\n",
       " '700': 'Localization of PIN1 in the Arabidopsis embryo does not require VPS9a',\n",
       " '702': 'Localization of PIN1 in the roots of Arabidopsis does not require VPS9a',\n",
       " '715': 'Low expression of miR7a does represses target genes and exerts a biological function in ovaries.',\n",
       " '716': 'Low expression of miR7a exerts a biological function in testis.',\n",
       " '718': 'Low nucleosome occupancy correlates with low methylation levels across species.',\n",
       " '721': 'Lupus-prone mice infected with curliproducing bacteria have higher autoantibody titers compared to controls.',\n",
       " '723': 'Ly49Q directs the organization of neutrophil migration to inflammation sites by regulating membrane raft functions.',\n",
       " '727': 'Ly6C hi monocytes have a lower inflammatory capacity compared to their Ly6C lo counterparts.',\n",
       " '728': 'Ly6C hi monocytes have a lower inflammatory capacity than Ly6C lo monocytes.',\n",
       " '729': 'Lymphadenopathy is observed in knockin mouse lacking the SHP-2 MAPK pathway.',\n",
       " '742': 'Macrolides have no protective effect against myocardial infarction.',\n",
       " '743': 'Macrolides protect against myocardial infarction.',\n",
       " '744': \"Macropinocytosis contributes to a cell's supply of amino acids via the intracellular uptake of protein.\",\n",
       " '756': 'Many proteins in human cells can be post-translationally modified at lysine residues via acetylation.',\n",
       " '759': 'Mathematical models predict that using Artemisinin-based combination therapy over nongametocytocidal drugs have a dramatic impact in reducing malaria transmission.',\n",
       " '768': 'Mercaptopurine is anabolized into the inactive methylmercaptopurine by thiopurine methyltrasnferase (TPMT).',\n",
       " '770': 'Metastatic colorectal cancer treated with a single agent fluoropyrimidines resulted in reduced efficacy and lower quality of life when compared with oxaliplatin-based chemotherapy in elderly patients.',\n",
       " '775': 'Mice defective for deoxyribonucleic acid (DNA) polymerase I (polI) reveal increased sensitivity to ionizing radiation (IR).',\n",
       " '781': 'Mice that lack Interferon-γ or its receptor exhibit high resistance to experimental autoimmune myocarditis.',\n",
       " '783': 'Mice without IFN-γ or its receptor are resistant to EAM induced with α-MyHC/CFA.',\n",
       " '784': 'MicroRNA is involved in the regulation of Neural Stem Cell (NSC) differentiation and proliferation dynamic homeostasis',\n",
       " '785': 'Microarray results from culture-amplified mixtures of serotypes correlate poorly with microarray results from uncultured mixtures.',\n",
       " '793': 'Mitochondria are uninvolved in apoptosis.',\n",
       " '800': 'Modifying the epigenome in the brain affects the normal human aging process by affecting certain genes related to neurogenesis.',\n",
       " '805': 'Monoclonal antibody targeting of N-cadherin inhibits metastasis.',\n",
       " '808': 'Most termination events in Okazaki fragments are sequence specific.',\n",
       " '811': 'Mutant mice lacking SVCT2 have greatly increased ascorbic acid levels in both brain and adrenals.',\n",
       " '814': 'Mutations in G-Beta protein GNB2 are present in many cancers, resulting in loss of interaction with G-alpha subunits and concomitant activation of AKT pathway.',\n",
       " '820': 'N-terminal cleavage increases success identifying transcription start sites.',\n",
       " '821': 'N-terminal cleavage reduces success identifying transcription start sites.',\n",
       " '823': 'N348I mutations cause resistance to zidovudine (AZT).',\n",
       " '830': 'NF2 (Merlin) causes phosphorylation and subsequent cytoplasmic sequestration of YAP in Drosophila by activating LATS1/2 kinases.',\n",
       " '831': 'NF2 (Merlin) prevents phosphorylation and subsequent cytoplasmic sequestration of YAP in Drosophila.',\n",
       " '832': 'NFAT4 activation requires IP3R-mediated Ca2+ mobilization.',\n",
       " '834': 'NOX2-independent pathways can generate peroxynitrite by reacting with nitrogen intermediates.',\n",
       " '837': 'NR5A2 is important in development of endometrial tissues.',\n",
       " '839': 'Nanoparticles can be targeted against specific cell types by incorporating aptamers into lipid nanoparticles.',\n",
       " '845': 'Neutrophil extracellular traps (NETs) are released by ANCA-stimulated neutrophils.',\n",
       " '847': 'New drugs for tuberculosis often do not penetrate the necrotic portion of a tuberculosis lesion in high concentrations.',\n",
       " '852': 'Non-invasive ventilation use should be decreased if there is inadequate response to conventional treatment.',\n",
       " '859': 'Normal expression of RUNX1 has tumor-promoting effects.',\n",
       " '870': 'Obesity decreases life quality.',\n",
       " '873': 'Obesity is determined solely by environmental factors.',\n",
       " '879': 'Occupancy of ribosomes by IncRNAs do not make functional peptides.',\n",
       " '880': 'Occupancy of ribosomes by IncRNAs mirror 5 0-UTRs',\n",
       " '882': 'Omnivores produce less trimethylamine N-oxide from dietary I-carnitine than vegetarians.',\n",
       " '887': 'Only a minority of cells survive development after differentiation into stress-resistant spores.',\n",
       " '903': 'PD-1 triggering on monocytes reduces IL-10 production by monocytes.',\n",
       " '904': 'PDPN promotes efficient motility along stromal surfaces by activating the C-type lectin receptor to rearrange the actin cytoskeleton in dendritic cells.',\n",
       " '907': 'PGE 2 promotes intestinal tumor growth by altering the expression of tumor suppressing and DNA repair genes.',\n",
       " '911': 'PKG-la plays an essential role in expression of pain hypersensitivity in PGK-la knockout mice.',\n",
       " '913': 'PPAR-RXRs are inhibited by PPAR ligands.',\n",
       " '914': 'PPAR-RXRs can be activated by PPAR ligands.',\n",
       " '921': 'Participating in six months of physical activity improves cognitive functioning.',\n",
       " '922': 'Patients in stable partnerships have a faster progression from HIV to AIDS.',\n",
       " '936': 'Peroxynitrite is required for nitration of TCR/CD8.',\n",
       " '956': 'Pleiotropic coupling of GLP-1R to intracellular effectors promotes distinct profiles of cellular signaling.',\n",
       " '957': 'Podocytes are motile and migrate in the presence of injury.',\n",
       " '960': 'Polymeal nutrition reduces cardiovascular mortality.',\n",
       " '967': 'Pretreatment with the Arp2/3 inhibitor CK-666 affects lamelliopodia formation.',\n",
       " '971': 'Primary cervical cancer screening with HPV detection has higher longitudinal sensitivity than conventional cytology to detect cervical intraepithelial neoplasia grade 2.',\n",
       " '975': 'Primary pro-inflammatory cytokines induce secondary pro- and anti-inflammatory mediators.',\n",
       " '982': 'Proteins synthesized at the growth cone are ubiquitinated at a higher rate than proteins from the cell body.',\n",
       " '985': 'Pseudogene PTENP1 regulates the expression of PTEN by functioning as an miRNA decoy.',\n",
       " '993': 'Pyridostatin destabilizes the G - quadruplex in the telomeric region.',\n",
       " '1012': 'Radioiodine treatment of non-toxic multinodular goitre reduces thyroid volume.',\n",
       " '1014': 'Rapamycin decreases the concentration of triacylglycerols in fruit flies.',\n",
       " '1019': 'Rapid phosphotransfer rates govern fidelity in two component systems',\n",
       " '1020': 'Rapid up-regulation and higher basal expression of interferon-induced genes increase survival of granule cell neurons that are infected by West Nile virus.',\n",
       " '1021': 'Rapid up-regulation and higher basal expression of interferon-induced genes reduce survival of granule cell neurons that are infected by West Nile virus.',\n",
       " '1024': 'Recurrent mutations occur frequently within CTCF anchor sites adjacent to oncogenes.',\n",
       " '1029': 'Reduced responsiveness to interleukin-2 in regulatory T cells is associated with greater resistance to autoimmune diseases such as Type 1 Diabetes.',\n",
       " '1041': 'Replacement of histone H2A with H2A.Z slows gene activation in yeasts by stabilizing +1 nucleosomes.',\n",
       " '1049': 'Ribosomopathies have a low degree of cell and tissue specific pathology.',\n",
       " '1062': 'S-nitrosylated GAPDH physiologically transnitrosylates histone deacetylases.',\n",
       " '1086': 'Sildenafil improves erectile function in men who experience sexual dysfunction as a result of the use of SSRI antidepressants.',\n",
       " '1088': 'Silencing of Bcl2 is important for the maintenance and progression of tumors.',\n",
       " '1089': 'Smc5/6 engagment drives the activation of SUMO E3 ligase Mms21 by ATP-dependent remolding.',\n",
       " '1099': 'Statins decrease blood cholesterol.',\n",
       " '1100': 'Statins increase blood cholesterol.',\n",
       " '1104': 'Stroke patients with prior use of direct oral anticoagulants have a lower risk of in-hospital mortality than stroke patients with prior use of warfarin.',\n",
       " '1107': 'Subcutaneous fat depots undergo extensive browning processes after cold exposure.',\n",
       " '1110': 'Suboptimal nutrition is not predictive of chronic disease',\n",
       " '1121': 'Synaptic activity enhances local release of brain derived neurotrophic factor from postsynaptic dendrites.',\n",
       " '1130': 'T regulatory cells (tTregs) lacking αvβ8 are more adept at suppressing pathogenic T-cell responses during active inflammation.',\n",
       " '1132': 'TCR/CD3 microdomains are a required to induce the immunologic synapse to activate T cells.',\n",
       " '1137': 'TNFAIP3 is a tumor suppressor in glioblastoma.',\n",
       " '1140': 'Taking 400mg of α-tocopheryl acetate helps to prevent prostate cancer.',\n",
       " '1144': 'Taxation of sugar-sweetened beverages had no effect on the incidence rate of type II diabetes in India.',\n",
       " '1146': 'Teaching hospitals do not provide better care than non-teaching hospitals.',\n",
       " '1150': 'Tetraspanin-3 is a causative factor in the development of acute myelogenous leukemia',\n",
       " '1163': 'The DdrB protein from Deinococcus radiodurans is an alternative SSB.',\n",
       " '1175': 'The PPR MDA5 has two N-terminal CARD domains.',\n",
       " '1179': 'The PRR MDA5 has a central DExD/H RNA helices domain.',\n",
       " '1180': 'The PRR MDA5 is a sensor of RNA virus infection.',\n",
       " '1185': 'The US health care system can save up to $750 million if 7% of patients waiting for kidney transplants participate in the optimized national kidney paired donation program.',\n",
       " '1187': 'The YAP1 and TEAD complex tanslocates into the nucleus where it interacts with transcription factors and DNA-binding proteins that modulate target gene transcription.',\n",
       " '1191': 'The amount of publicly available DNA data doubles every 10 years.',\n",
       " '1194': \"The arm density of TatAd complexes is due to structural rearrangements within Class1 TatAd complexes such as the 'charge zipper mechanism'.\",\n",
       " '1196': 'The availability of safe places to study is effective at decreasing homelessness.',\n",
       " '1197': 'The availability of safe places to study is not effective at decreasing homelessness.',\n",
       " '1199': 'The benefits of colchicine were achieved with effective widespread use of secondary prevention strategies such as high-dose statins.',\n",
       " '1200': 'The binding orientation of the ML-SA1 activator at hTRPML2 is different from the binding orientation of the ML-SA1 activator at hTRPML1.',\n",
       " '1202': 'The center of the granuloma in an immune cell induces a pro-inflammatory immune response.',\n",
       " '1204': 'The combination of H3K4me3 and H3K79me2 is found in quiescent hair follicle stem cells.',\n",
       " '1207': 'The composition of myosin-II isoform switches from the polarizable B isoform to the more homogenous A isoform during hematopoietic differentiation.',\n",
       " '1213': 'The deregulated and prolonged activation of monocytes has deleterious effects in inflammatory diseases.',\n",
       " '1216': 'The extracellular domain of TMEM27 is cleaved in human beta cells.',\n",
       " '1221': 'The genomic aberrations found in matasteses are very similar to those found in the primary tumor.',\n",
       " '1225': 'The locus rs647161 is associated with colorectal carcinoma.',\n",
       " '1226': 'The loss of the TET protein functions may have dire biological consequences, such as myeloid cancers.',\n",
       " '1232': \"The minor G allele of FOXO3 is related to more severe symptoms of Crohn's Disease.\",\n",
       " '1241': 'The myocardial lineage develops from cardiac progenitors of mesodermal origin.',\n",
       " '1245': 'The one-child policy has been successful in lowering population growth.',\n",
       " '1259': \"The relationship between a breast cancer patient's capacity to metabolize tamoxifen and treatment outcome is dependent on the patient's genetic make-up.\",\n",
       " '1262': 'The repair of Cas9-induced double strand breaks in human DNA is error-prone.',\n",
       " '1266': 'The risk of breast cancer among parous women increases with placental weight of pregnancies, and this association is strongest for premenopausal breast cancer.',\n",
       " '1270': 'The risk of male prisoners harming themselves is ten times that of female prisoners.',\n",
       " '1271': 'The severity of cardiac involvement in amyloidosis can be described by the degree of transmurality of late gadolinium enhancement in MRI.',\n",
       " '1272': 'The single flash-evoked ERG b-wave is generated by activity of ON-bipolar cells.',\n",
       " '1273': 'The sliding activity of kinesin-8 protein Kip3 promotes bipolar spindle assembly.',\n",
       " '1274': 'The tip of the inner tube of the toxic type VI secretion system (T6SS) antibacterial effector in Escherichia coli (E. coli) carries toxic effector proteins.',\n",
       " '1278': 'The treatment of cancer patients with co-IR blockade does not cause any adverse autoimmune events.',\n",
       " '1279': 'The treatment of cancer patients with co-IR blockade precipitates adverse autoimmune events.',\n",
       " '1280': 'The ureABIEFGH gene cluster encodes urease maturation proteins : UreD/UreH, UreE, UreF, and UreG.',\n",
       " '1281': 'The ureABIEFGH gene cluster is induced by nickel (II) ion.',\n",
       " '1282': 'Therapeutic use of the drug Dapsone to treat pyoderma gangrenous is based on anecdotal evidence.',\n",
       " '1290': 'There is an inverse relationship between hip fractures and statin use.',\n",
       " '1292': 'There is no association between HNF4A mutations and diabetes risks.',\n",
       " '1298': 'Thigh-length graduated compression stockings (GCS) did not reduce deep vein thrombosis in patients admitted to hospital who are immobile because of acute stroke.',\n",
       " '1303': 'Tirasemtiv has no effect on fast-twitch muscle.',\n",
       " '1316': 'Transferred UCB T cells acquire a memory-like phenotype in recipients.',\n",
       " '1319': 'Transplanted human glial cells can differentiate within the host animal.',\n",
       " '1320': \"Transplanted human glial progenitor cells are incapable of forming a neural network with host animals' neurons.\",\n",
       " '1332': 'Tumor necrosis factor alpha (TNF-α) and interleukin-1 (IL-1) are pro-inflammatory cytokines that inhibit IL-6 and IL-10.',\n",
       " '1335': 'UCB T cells maintain high TCR diversity after transplantation.',\n",
       " '1336': 'UCB T cells reduce TCR diversity after transplantation.',\n",
       " '1337': 'Ubiquitin ligase UBC13 generates a K63-linked polyubiquitin moiety at PCNA K164.',\n",
       " '1339': 'Ultrasound guidance significantly raises the number of traumatic procedures when attempting needle insertion.',\n",
       " '1344': 'Up-regulation of the p53 pathway and related molecular events casues cancer resistance and results in a significantly shortened lifespan marked by senescent cells and accelerated organismal aging.',\n",
       " '1352': 'Upregulation of mosGCTL-1 is induced upon infection with West Nile virus.',\n",
       " '1359': 'Varenicline monotherapy is more effective after 12 weeks of treatment compared to combination nicotine replacement therapies with varenicline or bupropion.',\n",
       " '1362': 'Venules have a larger lumen diameter than arterioles.',\n",
       " '1363': 'Venules have a thinner or absent smooth layer compared to arterioles.',\n",
       " '1368': 'Vitamin D deficiency effects the term of delivery.',\n",
       " '1370': 'Vitamin D deficiency is unrelated to birth weight.',\n",
       " '1379': 'Women with a higher birth weight are more likely to develop breast cancer later in life.',\n",
       " '1382': 'aPKCz causes tumour enhancement by affecting glutamine metabolism.',\n",
       " '1385': 'cSMAC formation enhances weak ligand signalling.',\n",
       " '1389': 'mTORC2 regulates intracellular cysteine levels through xCT inhibition.',\n",
       " '1395': 'p16INK4A accumulation is  linked to an abnormal wound response caused by the microinvasive step of advanced Oral Potentially Malignant Lesions (OPMLs).'}"
      ]
     },
     "execution_count": 3,
     "metadata": {},
     "output_type": "execute_result"
    }
   ],
   "source": [
    "queries"
   ]
  },
  {
   "cell_type": "code",
   "execution_count": null,
   "metadata": {},
   "outputs": [],
   "source": [
    "# Downloading dataset directly from huggingface\n",
    "# Note that the formats are different from GenericDataLoader output\n",
    "from beir.datasets.data_loader_hf import HFDataLoader\n",
    "corpus, queries, qrels = HFDataLoader(hf_repo=\"clarin-knext/scifact-pl\", streaming=False, keep_in_memory=False).load(split=\"test\")\n",
    "# Conversion from DataSet\n",
    "queries = {query['id']: {'text': query['text']} for query in queries}\n",
    "corpus = {doc['id']: {'title': doc['title'] , 'text': doc['text']} for doc in corpus}"
   ]
  },
  {
   "attachments": {},
   "cell_type": "markdown",
   "metadata": {},
   "source": [
    "### How to use Sentence Transformers\n",
    "\n",
    "You can visit https://www.sbert.net/\n",
    "There are other examples and documentation of the framework.\n",
    "\n",
    "There are models avaliable on huggingface: https://huggingface.co/sentence-transformers\n",
    "\n",
    "English biencoder models:\n",
    "- sentence-transformers/all-MiniLM-L6-v2 - cos sim, mean pooling\n",
    "- sentence-transformers/all-distilroberta-v1 - cos sim, mean pooling\n",
    "- sentence-transformers/all-mpnet-base-v2 - cos sim, mean pooling\n",
    "- sentence-transformers/msmarco-distilbert-base-tas-b - dot prod, cls pooling\n",
    "\n",
    "Worth noting multilingual models which can be used with sentence transformers and work for Polish:\n",
    "- sentence-transformers/distiluse-base-multilingual-cased-v1 - dot product, mean pooling\n",
    "- nthakur/mcontriever-base-msmarco - dot product, mean pooling\n",
    "- intfloat/multilingual-e5-base - cos sim, mean pooling, remembert to add \"query: \" or \"passage: \" before query or passage\n"
   ]
  },
  {
   "cell_type": "code",
   "execution_count": 33,
   "metadata": {},
   "outputs": [
    {
     "name": "stdout",
     "output_type": "stream",
     "text": [
      "\n",
      "======================\n",
      "\n",
      "Query: Man is playing piano?\n",
      "\n",
      "Top 5 most similar sentences in corpus:\n",
      "A monkey is playing drums. (Score: 0.3061)\n",
      "A man is eating food. (Score: 0.2775)\n",
      "A man is eating a piece of bread. (Score: 0.2480)\n",
      "A woman is playing violin. (Score: 0.2098)\n",
      "A man is riding a horse. (Score: 0.1839)\n"
     ]
    }
   ],
   "source": [
    "from sentence_transformers import SentenceTransformer, util\n",
    "import torch\n",
    "\n",
    "embedder = SentenceTransformer(\"sentence-transformers/all-MiniLM-L6-v2\")\n",
    "\n",
    "# Corpus with example sentences\n",
    "corpus = ['A man is eating food.',\n",
    "          'A man is eating a piece of bread.',\n",
    "          'The girl is carrying a baby.',\n",
    "          'A man is riding a horse.',\n",
    "          'A woman is playing violin.',\n",
    "          'Two men pushed carts through the woods.',\n",
    "          'A man is riding a white horse on an enclosed ground.',\n",
    "          'A monkey is playing drums.',\n",
    "          'A cheetah is running behind its prey.'\n",
    "          ]\n",
    "corpus_embeddings = embedder.encode(corpus, convert_to_tensor=True)\n",
    "\n",
    "# Query sentences:\n",
    "queries = ['A man is eating pasta.', \n",
    "           'Someone in a gorilla costume is playing a set of drums.', \n",
    "           'A cheetah chases prey on across a field.']\n",
    "\n",
    "\n",
    "\n",
    "# Find the closest 5 sentences of the corpus for each query sentence based on cosine similarity\n",
    "top_k = min(5, len(corpus))\n",
    "for query in queries:\n",
    "    query_embedding = embedder.encode(query, convert_to_tensor=True)\n",
    "\n",
    "    # We use cosine-similarity and torch.topk to find the highest 5 scores\n",
    "    cos_scores = util.cos_sim(query_embedding, corpus_embeddings)[0]\n",
    "    top_results = torch.topk(cos_scores, k=top_k)\n",
    "\n",
    "    print(\"\\n======================\\n\")\n",
    "    print(\"Query:\", query)\n",
    "    print(\"\\nTop 5 most similar sentences in corpus:\")\n",
    "\n",
    "    for score, idx in zip(top_results[0], top_results[1]):\n",
    "        print(corpus[idx], \"(Score: {:.4f})\".format(score))"
   ]
  },
  {
   "attachments": {},
   "cell_type": "markdown",
   "metadata": {},
   "source": [
    "### You can get directly embeddings from the model and compute scores\n",
    "You can check that different models may have different length of embeddings.\n",
    "\n",
    "Try loading other models and check how different is similarity for the same sentences."
   ]
  },
  {
   "cell_type": "code",
   "execution_count": 1,
   "metadata": {},
   "outputs": [
    {
     "name": "stdout",
     "output_type": "stream",
     "text": [
      "[[ 0.0390083   0.03461862  0.0430243  ...  0.02513455 -0.10736141\n",
      "  -0.04870313]\n",
      " [-0.06797605 -0.05478052  0.1530795  ...  0.0206313  -0.12184491\n",
      "   0.06304809]]\n",
      "(2, 768)\n"
     ]
    }
   ],
   "source": [
    "from sentence_transformers import SentenceTransformer, CrossEncoder, util\n",
    "from sentence_transformers import SentenceTransformer\n",
    "sentences = [\"This is an example sentence\", \"Each sentence is converted\"]\n",
    "\n",
    "model = SentenceTransformer('nthakur/mcontriever-base-msmarco')\n",
    "embeddings = model.encode(sentences)\n",
    "print(embeddings)\n",
    "print(embeddings.shape)"
   ]
  },
  {
   "cell_type": "code",
   "execution_count": 2,
   "metadata": {},
   "outputs": [
    {
     "data": {
      "text/plain": [
       "(tensor([[0.5552]]), tensor([[1.7575]]))"
      ]
     },
     "execution_count": 2,
     "metadata": {},
     "output_type": "execute_result"
    }
   ],
   "source": [
    "util.cos_sim(embeddings[0], embeddings[1]), util.dot_score(embeddings[0], embeddings[1])"
   ]
  },
  {
   "attachments": {},
   "cell_type": "markdown",
   "metadata": {},
   "source": [
    "### Small Exercise\n",
    "### Chek with your own queries and with different models. Can you think of queries that are getting confusing for the model?"
   ]
  },
  {
   "cell_type": "code",
   "execution_count": null,
   "metadata": {},
   "outputs": [],
   "source": [
    "# YOUR CODE HERE"
   ]
  },
  {
   "attachments": {},
   "cell_type": "markdown",
   "metadata": {},
   "source": [
    "### Cross-encoders in Sentence Transformers\n",
    "\n",
    "There are also cross-encoders models avaliable. \n",
    "\n",
    "Cross-encoders are models that performing input sequence classification.\n",
    "When we provide Query and Passage jointly to the model it is able to assess whether they are relevant to each other.\n",
    "Cross-encoders are more computionally expensive than retrievers because we can not store precomputed coprus embeddings.\n",
    "![Bi_vs_Cross-Encoder.png](images/Bi_vs_Cross-Encoder.png)\n",
    "\n",
    "https://www.sbert.net/examples/applications/cross-encoder/README.html\n",
    "\n",
    "Example cross-encoders for English:\n",
    "- cross-encoder/ms-marco-MiniLM-L-6-v2\n",
    "- cross-encoder/ms-marco-TinyBERT-L-2\n",
    "\n",
    "Multilingual and Polish:\n",
    "- cross-encoder/mmarco-mMiniLMv2-L12-H384-v1\n",
    "- unicamp-dl/mMiniLM-L6-v2-mmarco-v2\n",
    "- clarin-knext/herbert-base-reranker-msmarco\n"
   ]
  },
  {
   "cell_type": "code",
   "execution_count": 42,
   "metadata": {},
   "outputs": [
    {
     "name": "stdout",
     "output_type": "stream",
     "text": [
      "Query: What is a man eating?\n",
      "0.98\tA man is eating food.\n",
      "0.98\tA man is eating a piece of bread.\n",
      "0.07\tA man is riding a horse.\n",
      "0.05\tA man is riding a white horse on an enclosed ground.\n",
      "0.00\tA woman is playing violin.\n",
      "0.00\tA cheetah is running behind its prey.\n",
      "0.00\tTwo men pushed carts through the woods.\n",
      "0.00\tThe girl is carrying a baby.\n",
      "0.00\tA monkey is playing drums.\n"
     ]
    }
   ],
   "source": [
    "from sentence_transformers.cross_encoder import CrossEncoder\n",
    "import numpy as np\n",
    "\n",
    "# Pre-trained cross encoder\n",
    "model = CrossEncoder('cross-encoder/ms-marco-TinyBERT-L-2')\n",
    "\n",
    "# We want to compute the similarity between the query sentence\n",
    "\n",
    "query = 'What is a man eating?'\n",
    "\n",
    "# With all sentences in the corpus\n",
    "corpus = ['A man is eating food.',\n",
    "          'A man is eating a piece of bread.',\n",
    "          'The girl is carrying a baby.',\n",
    "          'A man is riding a horse.',\n",
    "          'A woman is playing violin.',\n",
    "          'Two men pushed carts through the woods.',\n",
    "          'A man is riding a white horse on an enclosed ground.',\n",
    "          'A monkey is playing drums.',\n",
    "          'A cheetah is running behind its prey.'\n",
    "          ]\n",
    "\n",
    "# So we create the respective sentence combinations\n",
    "sentence_combinations = [[query, corpus_sentence] for corpus_sentence in corpus]\n",
    "\n",
    "# Compute the similarity scores for these combinations\n",
    "similarity_scores = model.predict(sentence_combinations)\n",
    "\n",
    "# Sort the scores in decreasing order\n",
    "sim_scores_argsort = reversed(np.argsort(similarity_scores))\n",
    "\n",
    "# Print the scores\n",
    "print(\"Query:\", query)\n",
    "for idx in sim_scores_argsort:\n",
    "    print(\"{:.2f}\\t{}\".format(similarity_scores[idx], corpus[idx]))"
   ]
  },
  {
   "attachments": {},
   "cell_type": "markdown",
   "metadata": {},
   "source": [
    "### Small Exercise\n",
    "### Try different crossencoders and compare the results with bi-encoders. Are they really performing better?"
   ]
  },
  {
   "cell_type": "code",
   "execution_count": null,
   "metadata": {},
   "outputs": [],
   "source": [
    "# YOUR CODE HERE"
   ]
  },
  {
   "attachments": {},
   "cell_type": "markdown",
   "metadata": {},
   "source": [
    "### Evaluation with BEIR benchmark\n",
    "\n",
    "BEIR benchmark has a lot of usefull classes that help with loading datasets, models and performing evaluation.\n",
    "More examples can be found : https://github.com/beir-cellar/beir/tree/main/examples/retrieval/evaluation\n",
    "\n",
    "\n"
   ]
  },
  {
   "attachments": {},
   "cell_type": "markdown",
   "metadata": {},
   "source": [
    "### Evaluate BM25\n",
    "\n",
    "To run elasticsearch in docker on your local machine run command:\n",
    "```\n",
    "docker run -d --name elasticsearch_ir -p 9200:9200 -p 9300:9300 -e \"ES_JAVA_OPTS=-Xms512m -Xmx512m\" -e \"discovery.type=single-node\" docker.elastic.co/elasticsearch/elasticsearch-oss:7.9.2\n",
    "```\n",
    "\n",
    "In google colab:\n",
    "```\n",
    "%%bash\n",
    "\n",
    "wget -q https://artifacts.elastic.co/downloads/elasticsearch/elasticsearch-oss-7.9.2-linux-x86_64.tar.gz\n",
    "wget -q https://artifacts.elastic.co/downloads/elasticsearch/elasticsearch-oss-7.9.2-linux-x86_64.tar.gz.sha512\n",
    "tar -xzf elasticsearch-oss-7.9.2-linux-x86_64.tar.gz\n",
    "sudo chown -R daemon:daemon elasticsearch-7.9.2/\n",
    "shasum -a 512 -c elasticsearch-oss-7.9.2-linux-x86_64.tar.gz.sha512 \n",
    "```\n",
    "\n",
    "\n",
    "```\n",
    "%%bash --bg\n",
    "\n",
    "sudo -H -u daemon elasticsearch-7.9.2/bin/elasticsearch\n",
    "```\n",
    "\n",
    "First examples is how to evaluate BM25.\n",
    "- Run your Elasticsearch with docker (or in colab)\n",
    "- Index your corpus from BEIR benchmark in Elasticsearch\n",
    "- Use EvaluateRetrieval class to perform retrieval and evaluation\n"
   ]
  },
  {
   "cell_type": "code",
   "execution_count": null,
   "metadata": {},
   "outputs": [],
   "source": [
    "from beir.retrieval.search.lexical import BM25Search as BM25\n",
    "from beir.retrieval.evaluation import EvaluateRetrieval\n",
    "\n",
    "#### Provide parameters for Elasticsearch\n",
    "hostname = \"localhost\" #localhost\n",
    "index_name = \"your-index-name\" # scifact\n",
    "initialize = True # False\n",
    "\n",
    "dataset = \"scifact\"\n",
    "# Downloading data, unpacking and loading\n",
    "url = \"https://public.ukp.informatik.tu-darmstadt.de/thakur/BEIR/datasets/{}.zip\".format(dataset)\n",
    "out_dir = \"data\"\n",
    "data_path = util.download_and_unzip(url, out_dir)\n",
    "\n",
    "corpus, queries, qrels = GenericDataLoader(data_folder=data_path).load(split=\"test\")\n",
    "\n",
    "\n",
    "model = BM25(index_name=index_name, hostname=hostname, initialize=initialize)\n",
    "retriever = EvaluateRetrieval(model)\n",
    "\n",
    "results = retriever.retrieve(corpus, queries)\n",
    "ndcg, _map, recall, precision = retriever.evaluate(qrels, results, retriever.k_values)\n",
    "print(ndcg)"
   ]
  },
  {
   "attachments": {},
   "cell_type": "markdown",
   "metadata": {},
   "source": [
    "### How to search with Elasticsearch\n",
    "\n",
    "Example how to search Elasticsearch with own query. You can provide your queries as a list of strings to 'texts' as in example below:"
   ]
  },
  {
   "cell_type": "code",
   "execution_count": 5,
   "metadata": {},
   "outputs": [
    {
     "data": {
      "text/plain": [
       "[{'meta': {'total': 135, 'took': 1, 'num_hits': 10},\n",
       "  'hits': [('6826636', 11.450113),\n",
       "   ('10029970', 10.169866),\n",
       "   ('17447653', 10.14879),\n",
       "   ('37297740', 9.742962),\n",
       "   ('1256116', 9.382215),\n",
       "   ('3367829', 7.67427),\n",
       "   ('15617300', 7.67427),\n",
       "   ('15048300', 7.4469895),\n",
       "   ('6078882', 7.008301),\n",
       "   ('15588516', 6.83874)]}]"
      ]
     },
     "execution_count": 5,
     "metadata": {},
     "output_type": "execute_result"
    }
   ],
   "source": [
    "bm25_results = model.es.lexical_multisearch(\n",
    "                texts=[\"Example query\"], \n",
    "                top_hits=10)\n",
    "bm25_results"
   ]
  },
  {
   "cell_type": "code",
   "execution_count": 7,
   "metadata": {},
   "outputs": [
    {
     "name": "stdout",
     "output_type": "stream",
     "text": [
      "6826636\n",
      "{'text': 'GiardiaDB (http://GiardiaDB.org) and TrichDB (http://TrichDB.org) house the genome databases for Giardia lamblia and Trichomonas vaginalis, respectively, and represent the latest additions to the EuPathDB (http://EuPathDB.org) family of functional genomic databases. GiardiaDB and TrichDB employ the same framework as other EuPathDB sites (CryptoDB, PlasmoDB and ToxoDB), supporting fully integrated and searchable databases. Genomic-scale data available via these resources may be queried based on BLAST searches, annotation keywords and gene ID searches, GO terms, sequence motifs and other protein characteristics. Functional queries may also be formulated, based on transcript and protein expression data from a variety of platforms. Phylogenetic relationships may also be interrogated. The ability to combine the results from independent queries, and to store queries and query results for future use facilitates complex, genome-wide mining of functional genomic data.', 'title': 'GiardiaDB and TrichDB: integrated genomic resources for the eukaryotic protist pathogens Giardia lamblia and Trichomonas vaginalis'}\n"
     ]
    }
   ],
   "source": [
    "# Get ID of the passage with the highest score\n",
    "doc_id = bm25_results[0]['hits'][0][0]\n",
    "print(doc_id)\n",
    "print(corpus[doc_id])"
   ]
  },
  {
   "cell_type": "code",
   "execution_count": null,
   "metadata": {},
   "outputs": [],
   "source": [
    "model = BM25(index_name=index_name, hostname=hostname, initialize=initialize)\n",
    "\n",
    "corpus = ['A man is eating food.',\n",
    "          'A man is eating a piece of bread.',\n",
    "          'The girl is carrying a baby.',\n",
    "          'A man is riding a horse.',\n",
    "          'A woman is playing violin.',\n",
    "          'Two men pushed carts through the woods.',\n",
    "          'A man is riding a white horse on an enclosed ground.',\n",
    "          'A monkey is playing drums.',\n",
    "          'A cheetah is running behind its prey.'\n",
    "          ]\n",
    "\n",
    "corpus = {str(key): {'text': val} for key,val in enumerate(corpus)}\n",
    "\n",
    "model.index(corpus)"
   ]
  },
  {
   "cell_type": "code",
   "execution_count": 17,
   "metadata": {},
   "outputs": [
    {
     "data": {
      "text/plain": [
       "{'0': {'text': 'A man is eating food.'},\n",
       " '1': {'text': 'A man is eating a piece of bread.'},\n",
       " '2': {'text': 'The girl is carrying a baby.'},\n",
       " '3': {'text': 'A man is riding a horse.'},\n",
       " '4': {'text': 'A woman is playing violin.'},\n",
       " '5': {'text': 'Two men pushed carts through the woods.'},\n",
       " '6': {'text': 'A man is riding a white horse on an enclosed ground.'},\n",
       " '7': {'text': 'A monkey is playing drums.'},\n",
       " '8': {'text': 'A cheetah is running behind its prey.'}}"
      ]
     },
     "execution_count": 17,
     "metadata": {},
     "output_type": "execute_result"
    }
   ],
   "source": [
    "corpus"
   ]
  },
  {
   "cell_type": "code",
   "execution_count": 19,
   "metadata": {},
   "outputs": [
    {
     "name": "stdout",
     "output_type": "stream",
     "text": [
      "\n",
      "======================\n",
      "\n",
      "Query: A man is eating pasta.\n",
      "\n",
      "Top 5 most similar sentences in corpus:\n",
      "2.43\t{'text': 'A man is eating food.'}\n",
      "2.18\t{'text': 'A man is eating a piece of bread.'}\n",
      "0.89\t{'text': 'A man is riding a horse.'}\n",
      "0.66\t{'text': 'A man is riding a white horse on an enclosed ground.'}\n",
      "\n",
      "======================\n",
      "\n",
      "Query: Someone in a gorilla costume is playing a set of drums.\n",
      "\n",
      "Top 5 most similar sentences in corpus:\n",
      "3.66\t{'text': 'A monkey is playing drums.'}\n",
      "1.54\t{'text': 'A woman is playing violin.'}\n",
      "\n",
      "======================\n",
      "\n",
      "Query: A cheetah chases prey on across a field.\n",
      "\n",
      "Top 5 most similar sentences in corpus:\n",
      "3.44\t{'text': 'A cheetah is running behind its prey.'}\n"
     ]
    }
   ],
   "source": [
    "queries = ['A man is eating pasta.', \n",
    "           'Someone in a gorilla costume is playing a set of drums.', \n",
    "           'A cheetah chases prey on across a field.']\n",
    "\n",
    "bm25_results = model.es.lexical_multisearch(\n",
    "                texts=queries, \n",
    "                top_hits=5)\n",
    "bm25_results[0]\n",
    "\n",
    "for query, bm25_result in zip(queries,bm25_results):\n",
    "    print(\"\\n======================\\n\")\n",
    "    print(\"Query:\", query)\n",
    "    print(\"\\nTop 5 most similar sentences in corpus:\")\n",
    "    for idx, score in bm25_result['hits']:\n",
    "        print(\"{:.2f}\\t{}\".format(score, corpus[idx]))"
   ]
  },
  {
   "attachments": {},
   "cell_type": "markdown",
   "metadata": {},
   "source": [
    "### Evaluation of dense models with BEIR benchmark "
   ]
  },
  {
   "cell_type": "code",
   "execution_count": 6,
   "metadata": {},
   "outputs": [],
   "source": [
    "from beir.retrieval.search.dense import DenseRetrievalExactSearch as DRES\n",
    "from beir.retrieval import models\n",
    "from beir.retrieval.evaluation import EvaluateRetrieval"
   ]
  },
  {
   "cell_type": "code",
   "execution_count": null,
   "metadata": {},
   "outputs": [],
   "source": [
    "# Here define model name:\n",
    "model_name = 'nthakur/mcontriever-base-msmarco' \n",
    "# model_name = 'intfloat/multilingual-e5-base'\n",
    "# model_name = 'sentence-transformers/distiluse-base-multilingual-cased-v1'\n",
    "model = DRES(models.SentenceBERT(model_name), batch_size=128, corpus_chunk_size=512)"
   ]
  },
  {
   "cell_type": "code",
   "execution_count": null,
   "metadata": {},
   "outputs": [],
   "source": [
    "retriever = EvaluateRetrieval(model, score_function=\"dot\")\n",
    "results = retriever.retrieve(corpus, queries)\n",
    "ndcg, _map, recall, precision = retriever.evaluate(qrels, results, retriever.k_values)\n",
    "mrr = retriever.evaluate_custom(qrels, results, retriever.k_values, metric=\"mrr\")\n",
    "ndcg, recall\n",
    "\n",
    "print(f\"NDGC: {ndcg}\")"
   ]
  },
  {
   "attachments": {},
   "cell_type": "markdown",
   "metadata": {},
   "source": [
    "### Evaluation and usage of MonoT5 Reranker models\n",
    "\n",
    "Example of how to use sequence-to-sequence monoT5 models for reranking.\n",
    "Remember that different models may predict different tokens as true and false!\n",
    "\n",
    "For English language:\n",
    "- castorini/monot5-base-msmarco (tokens: ['▁false', '▁true'])\n",
    "- castorini/monot5-small-msmarco-100k (tokens: ['▁false', '▁true'])\n",
    "\n",
    "For Polish language:\n",
    "- clarin-knext/plt5-base-msmarco (tokens: ['▁fałsz'   , '▁prawda'])\n",
    "- unicamp-dl/mt5-base-mmarco-v2 (tokens: ['▁no'   , '▁yes'])"
   ]
  },
  {
   "cell_type": "code",
   "execution_count": 22,
   "metadata": {},
   "outputs": [],
   "source": [
    "from beir.reranking.models import MonoT5\n",
    "from beir.reranking import Rerank\n",
    "cross_encoder_name = \"clarin-knext/plt5-base-msmarco\"\n",
    "# castorini/monot5-base-msmarco\n",
    "# unicamp-dl/mt5-base-mmarco-v2\n",
    "cross_encoder = MonoT5(cross_encoder_name, use_amp=False, token_true='▁prawda', token_false='▁fałsz')\n",
    "reranker = Rerank(cross_encoder, batch_size=128)\n",
    "\n",
    "rerank_results = reranker.rerank(corpus, queries, results, top_k=100)\n",
    "ndcg, _map, recall, precision = EvaluateRetrieval.evaluate(qrels, rerank_results, retriever.k_values)\n",
    "print(ndcg)"
   ]
  },
  {
   "cell_type": "code",
   "execution_count": null,
   "metadata": {},
   "outputs": [],
   "source": [
    "# How to predict on your query and passage:\n",
    "\n",
    "cross_encoder.predict([(\"Czy Ala ma psa?\", \"Ala ma kota.\")])"
   ]
  },
  {
   "attachments": {},
   "cell_type": "markdown",
   "metadata": {},
   "source": [
    "### SPLADE\n",
    "Here is example of how to use sparse retrieval model - SPLADE.\n",
    "It produces representation of the query over a whole tokenizer vocabulary.\n",
    "\n",
    "To get better understanding how the model output, it is possible to print which tokens are the most important for given query.\n",
    "\n",
    "Avaliable models:\n",
    "- naver/splade-cocondenser-ensembledistil\n",
    "- naver/splade_v2_distil"
   ]
  },
  {
   "cell_type": "code",
   "execution_count": null,
   "metadata": {},
   "outputs": [],
   "source": [
    "from beir.retrieval.models import SPLADE\n",
    "from beir.retrieval.search.dense import DenseRetrievalExactSearch as DRES\n",
    "\n",
    "model_path = \"naver/splade_v2_distil\" #\"naver/splade-cocondenser-ensembledistil\"\n",
    "model = SPLADE(model_path)\n",
    "splade_tokenizer = model.tokenizer\n"
   ]
  },
  {
   "cell_type": "code",
   "execution_count": 59,
   "metadata": {},
   "outputs": [],
   "source": [
    "# Reverse vocabulary index is created to print the tokens later \n",
    "reverse_voc = {v: k for k, v in splade_tokenizer.vocab.items()}"
   ]
  },
  {
   "cell_type": "code",
   "execution_count": null,
   "metadata": {},
   "outputs": [],
   "source": [
    "# Here the SPLADE model is accessed in order to represent a single query\n",
    "example_query = ['Who is carrying a child?']\n",
    "example_doc = ['The girl is carrying a baby.', 'A man is eating food.']\n",
    "\n",
    "encoded_splade = model.model.encode_sentence_bert(splade_tokenizer, example_query, is_q=True, maxlen=model.max_length)\n",
    "encoded_doc_splade = model.model.encode_sentence_bert(splade_tokenizer, example_doc, is_q=False, maxlen=model.max_length)\n",
    "\n"
   ]
  },
  {
   "cell_type": "code",
   "execution_count": null,
   "metadata": {},
   "outputs": [],
   "source": [
    "util.dot_score(encoded_splade,encoded_doc_splade)"
   ]
  },
  {
   "cell_type": "code",
   "execution_count": 62,
   "metadata": {},
   "outputs": [
    {
     "data": {
      "text/plain": [
       "(1, 30522)"
      ]
     },
     "execution_count": 62,
     "metadata": {},
     "output_type": "execute_result"
    }
   ],
   "source": [
    "# Check the SPLADE model vector size\n",
    "encoded_splade.shape"
   ]
  },
  {
   "cell_type": "code",
   "execution_count": 63,
   "metadata": {},
   "outputs": [
    {
     "name": "stdout",
     "output_type": "stream",
     "text": [
      "number of actual dimensions:  26\n"
     ]
    }
   ],
   "source": [
    "import numpy as np\n",
    "col = np.nonzero(encoded_splade.reshape(-1))[0]\n",
    "print(\"number of actual dimensions: \", len(col))"
   ]
  },
  {
   "cell_type": "code",
   "execution_count": 64,
   "metadata": {},
   "outputs": [
    {
     "name": "stdout",
     "output_type": "stream",
     "text": [
      "SPLADE BOW rep:\n",
      " [('a', 0.84), ('who', 1.7), ('children', 2.32), ('police', 0.66), ('god', 0.86), ('person', 0.91), ('child', 2.87), ('baby', 0.75), ('carried', 1.26), ('carry', 2.66), ('carrying', 2.56)]\n"
     ]
    }
   ],
   "source": [
    "weights = encoded_splade[0][col].tolist()\n",
    "threshold = 0.5\n",
    "d = {k: v for k, v in zip(col, weights) if v > threshold}\n",
    "# sorted_d = {k: v for k, v in sorted(d.items(), key=lambda item: item[1], reverse=True)}\n",
    "bow_rep = []\n",
    "for k, v in d.items():\n",
    "    bow_rep.append((reverse_voc[k], round(v, 2)))\n",
    "print(\"SPLADE BOW rep:\\n\", bow_rep)"
   ]
  },
  {
   "attachments": {},
   "cell_type": "markdown",
   "metadata": {},
   "source": [
    "### SPLADE MODEL EVALUATION ON BEIR DATASET"
   ]
  },
  {
   "cell_type": "code",
   "execution_count": null,
   "metadata": {},
   "outputs": [],
   "source": [
    "model = DRES(SPLADE(model_path), batch_size=128)\n",
    "retriever = EvaluateRetrieval(model, score_function=\"dot\")\n",
    "\n",
    "dataset = \"scifact\"\n",
    "# Downloading data, unpacking and loading\n",
    "url = \"https://public.ukp.informatik.tu-darmstadt.de/thakur/BEIR/datasets/{}.zip\".format(dataset)\n",
    "out_dir = \"data\"\n",
    "data_path = util.download_and_unzip(url, out_dir)\n",
    "\n",
    "corpus, queries, qrels = GenericDataLoader(data_folder=data_path).load(split=\"test\")\n",
    "\n",
    "results = retriever.retrieve(corpus, queries)\n",
    "ndcg, _map, recall, precision = retriever.evaluate(qrels, results, retriever.k_values)\n",
    "print(ndcg)"
   ]
  },
  {
   "attachments": {},
   "cell_type": "markdown",
   "metadata": {},
   "source": [
    "### HOW TO TRAIN A MODEL\n",
    "Here is example of training the model with BEIR library\n",
    "\n",
    "For more examples check: https://github.com/beir-cellar/beir/tree/main/examples/retrieval/training"
   ]
  },
  {
   "cell_type": "code",
   "execution_count": null,
   "metadata": {},
   "outputs": [],
   "source": [
    "from sentence_transformers import losses, models, SentenceTransformer\n",
    "from beir import util\n",
    "from beir.datasets.data_loader import GenericDataLoader\n",
    "from beir.retrieval.train import TrainRetriever\n",
    "import os\n",
    "\n",
    "#### Download nfcorpus.zip dataset and unzip the dataset\n",
    "dataset = \"nfcorpus\"\n",
    "\n",
    "url = \"https://public.ukp.informatik.tu-darmstadt.de/thakur/BEIR/datasets/{}.zip\".format(dataset)\n",
    "out_dir = os.path.join(\"datasets\")\n",
    "data_path = util.download_and_unzip(url, out_dir)\n",
    "\n",
    "#### Provide the data_path where nfcorpus has been downloaded and unzipped\n",
    "corpus, queries, qrels = GenericDataLoader(data_path).load(split=\"train\")\n",
    "#### Please Note not all datasets contain a dev split, comment out the line if such the case\n",
    "dev_corpus, dev_queries, dev_qrels = GenericDataLoader(data_path).load(split=\"dev\")\n",
    "\n",
    "#### Provide any sentence-transformers or HF model\n",
    "model_name = \"distilbert-base-uncased\" \n",
    "word_embedding_model = models.Transformer(model_name, max_seq_length=350)\n",
    "pooling_model = models.Pooling(word_embedding_model.get_word_embedding_dimension())\n",
    "model = SentenceTransformer(modules=[word_embedding_model, pooling_model])\n",
    "\n",
    "#### Or provide pretrained sentence-transformer model\n",
    "# model = SentenceTransformer(\"msmarco-distilbert-base-v3\")\n",
    "\n",
    "retriever = TrainRetriever(model=model, batch_size=16)\n",
    "\n",
    "#### Prepare training samples\n",
    "train_samples = retriever.load_train(corpus, queries, qrels)\n",
    "train_dataloader = retriever.prepare_train(train_samples, shuffle=True)\n",
    "\n",
    "#### Training SBERT with cosine-product\n",
    "train_loss = losses.MultipleNegativesRankingLoss(model=retriever.model)\n",
    "#### training SBERT with dot-product\n",
    "# train_loss = losses.MultipleNegativesRankingLoss(model=retriever.model, similarity_fct=util.dot_score)\n",
    "\n",
    "#### Prepare dev evaluator\n",
    "ir_evaluator = retriever.load_ir_evaluator(dev_corpus, dev_queries, dev_qrels)\n",
    "\n",
    "#### If no dev set is present from above use dummy evaluator\n",
    "# ir_evaluator = retriever.load_dummy_evaluator()\n",
    "\n",
    "#### Provide model save path\n",
    "model_save_path = os.path.join( \"output\", \"{}-v1-{}\".format(model_name, dataset))\n",
    "os.makedirs(model_save_path, exist_ok=True)\n",
    "\n",
    "#### Configure Train params\n",
    "num_epochs = 1\n",
    "evaluation_steps = 5000\n",
    "warmup_steps = int(len(train_samples) * num_epochs / retriever.batch_size * 0.1)\n",
    "\n",
    "retriever.fit(train_objectives=[(train_dataloader, train_loss)], \n",
    "                evaluator=ir_evaluator, \n",
    "                epochs=num_epochs,\n",
    "                output_path=model_save_path,\n",
    "                warmup_steps=warmup_steps,\n",
    "                evaluation_steps=evaluation_steps,\n",
    "                use_amp=True)"
   ]
  },
  {
   "attachments": {},
   "cell_type": "markdown",
   "metadata": {},
   "source": [
    "# EXCERCISE\n",
    "\n",
    "Try to build your own retrieval system with existing models. You can try BM25, retriever models and reranker models.\n",
    "\n",
    "Build retrieval system for Game of Thrones. There is existing dataset avaliabe on huggingface. To download it you need dataset library.\n",
    "Load dataset: https://huggingface.co/datasets/Tuana/game-of-thrones\n"
   ]
  },
  {
   "cell_type": "code",
   "execution_count": null,
   "metadata": {},
   "outputs": [],
   "source": [
    "from datasets import load_dataset\n",
    "\n",
    "dataset = load_dataset(\"Tuana/game-of-thrones\")"
   ]
  },
  {
   "cell_type": "code",
   "execution_count": 5,
   "metadata": {},
   "outputs": [
    {
     "data": {
      "text/plain": [
       "DatasetDict({\n",
       "    train: Dataset({\n",
       "        features: ['id', 'content', 'content_type', 'meta', 'score', 'embedding'],\n",
       "        num_rows: 2357\n",
       "    })\n",
       "})"
      ]
     },
     "execution_count": 5,
     "metadata": {},
     "output_type": "execute_result"
    }
   ],
   "source": [
    "dataset"
   ]
  },
  {
   "cell_type": "code",
   "execution_count": null,
   "metadata": {},
   "outputs": [],
   "source": [
    "# YOUR CODE HERE"
   ]
  }
 ],
 "metadata": {
  "kernelspec": {
   "display_name": "Python 3 (ipykernel)",
   "language": "python",
   "name": "python3"
  },
  "language_info": {
   "codemirror_mode": {
    "name": "ipython",
    "version": 3
   },
   "file_extension": ".py",
   "mimetype": "text/x-python",
   "name": "python",
   "nbconvert_exporter": "python",
   "pygments_lexer": "ipython3",
   "version": "3.10.6"
  }
 },
 "nbformat": 4,
 "nbformat_minor": 2
}
